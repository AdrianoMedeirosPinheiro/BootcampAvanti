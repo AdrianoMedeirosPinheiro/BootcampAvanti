{
 "cells": [
  {
   "cell_type": "markdown",
   "id": "9db06e37",
   "metadata": {},
   "source": [
    "# Revisão de Python"
   ]
  },
  {
   "cell_type": "markdown",
   "id": "c189ed5d",
   "metadata": {},
   "source": [
    "## Variáveis e Operadores:"
   ]
  },
  {
   "cell_type": "markdown",
   "id": "ed456a17",
   "metadata": {},
   "source": [
    "a) Crie um programa que leia dois números inteiros e imprima a soma, subtração, multiplicação e divisão entre eles.\n",
    "\n",
    "b) Escreva um programa que calcule a área de um círculo, solicitando o raio do usuário.\n"
   ]
  },
  {
   "cell_type": "code",
   "execution_count": 1,
   "id": "f16a4934",
   "metadata": {},
   "outputs": [
    {
     "name": "stdout",
     "output_type": "stream",
     "text": [
      "Digite o primeiro número: 10\n",
      "Digite o segundo número: 20\n",
      "A soma dos números é:  30\n",
      "A subtração dos números é:  -10\n",
      "A multiplicação dos números é:  200\n",
      "A divisão dos números é:  0.5\n"
     ]
    }
   ],
   "source": [
    "# Passo 1: Ler dois números inteiros do usuário\n",
    "numero1 = int(input(\"Digite o primeiro número: \"))\n",
    "numero2 = int(input(\"Digite o segundo número: \"))\n",
    "\n",
    "# Passo 2: Realizar as operações matemáticas\n",
    "soma = numero1 + numero2\n",
    "subtracao = numero1 - numero2\n",
    "multiplicacao = numero1 * numero2\n",
    "divisao = numero1 / numero2\n",
    "\n",
    "# Passo 3: Imprimir os resultados\n",
    "print(\"A soma dos números é: \", soma)\n",
    "print(\"A subtração dos números é: \", subtracao)\n",
    "print(\"A multiplicação dos números é: \", multiplicacao)\n",
    "print(\"A divisão dos números é: \", divisao)"
   ]
  },
  {
   "cell_type": "code",
   "execution_count": 2,
   "id": "9d05bd73",
   "metadata": {},
   "outputs": [
    {
     "name": "stdout",
     "output_type": "stream",
     "text": [
      "Digite o valor do raio: 5\n",
      "A área do círculo é:  78.53975\n"
     ]
    }
   ],
   "source": [
    "# Passo 1: Ler o raio do usuário\n",
    "raio = float(input(\"Digite o valor do raio: \"))\n",
    "\n",
    "# Passo 2: Calcular a área do círculo\n",
    "area = 3.14159 * (raio ** 2)\n",
    "\n",
    "# Passo 3: Imprimir o resultado\n",
    "print(\"A área do círculo é: \", area)"
   ]
  },
  {
   "cell_type": "markdown",
   "id": "82b29876",
   "metadata": {},
   "source": [
    "## Estruturas de Seleção e Repetição:"
   ]
  },
  {
   "cell_type": "markdown",
   "id": "f29fac40",
   "metadata": {},
   "source": [
    "a) Escreva um programa que solicite a idade do usuário e imprima se ele é menor de idade (menor que 18 anos) ou maior de idade.\n",
    "\n",
    "b) Crie um programa que peça ao usuário para adivinhar um número secreto entre 1 e 100. O programa deve fornecer dicas se o palpite do usuário é maior ou menor que o número secreto, até que ele adivinhe corretamente"
   ]
  },
  {
   "cell_type": "code",
   "execution_count": 3,
   "id": "373495df",
   "metadata": {},
   "outputs": [
    {
     "name": "stdout",
     "output_type": "stream",
     "text": [
      "Digite sua idade: 51\n",
      "Você é maior de idade.\n"
     ]
    }
   ],
   "source": [
    "idade = int(input(\"Digite sua idade: \"))\n",
    "\n",
    "if idade < 18:\n",
    "    print(\"Você é menor de idade.\")\n",
    "else:\n",
    "    print(\"Você é maior de idade.\")"
   ]
  },
  {
   "cell_type": "code",
   "execution_count": 4,
   "id": "1712e249",
   "metadata": {},
   "outputs": [
    {
     "name": "stdout",
     "output_type": "stream",
     "text": [
      "Tente adivinhar o número secreto entre 1 e 100!\n",
      "Digite seu palpite: 2\n",
      "O número secreto é maior que seu palpite.\n",
      "Digite seu palpite: 82\n",
      "O número secreto é menor que seu palpite.\n",
      "Digite seu palpite: 50\n",
      "O número secreto é maior que seu palpite.\n",
      "Digite seu palpite: 60\n",
      "O número secreto é maior que seu palpite.\n",
      "Digite seu palpite: 70\n",
      "O número secreto é menor que seu palpite.\n",
      "Digite seu palpite: 65\n",
      "Parabéns! Você acertou em 6 tentativas.\n"
     ]
    }
   ],
   "source": [
    "import random\n",
    "\n",
    "numero_secreto = random.randint(1, 100)\n",
    "tentativas = 0\n",
    "\n",
    "print(\"Tente adivinhar o número secreto entre 1 e 100!\")\n",
    "\n",
    "while True:\n",
    "    palpite = int(input(\"Digite seu palpite: \"))\n",
    "    tentativas += 1\n",
    "\n",
    "    if palpite == numero_secreto:\n",
    "        print(f\"Parabéns! Você acertou em {tentativas} tentativas.\")\n",
    "        break\n",
    "    elif palpite < numero_secreto:\n",
    "        print(\"O número secreto é maior que seu palpite.\")\n",
    "    else:\n",
    "        print(\"O número secreto é menor que seu palpite.\")"
   ]
  },
  {
   "cell_type": "markdown",
   "id": "628dc1a0",
   "metadata": {},
   "source": [
    "## Coleções (Listas, Tuplas, Conjuntos):\n"
   ]
  },
  {
   "cell_type": "markdown",
   "id": "f2bf03a4",
   "metadata": {},
   "source": [
    "a) Escreva um programa que crie uma lista de 5 números inteiros e imprima os elementos dessa lista.\n",
    "\n",
    "b) Crie uma tupla com os nomes de alguns animais. Em seguida, peça ao usuário para digitar o nome de um animal e verifique se ele está presente na tupla.\n"
   ]
  },
  {
   "cell_type": "code",
   "execution_count": 5,
   "id": "87bf728c",
   "metadata": {},
   "outputs": [
    {
     "name": "stdout",
     "output_type": "stream",
     "text": [
      "1\n",
      "2\n",
      "3\n",
      "4\n",
      "5\n"
     ]
    }
   ],
   "source": [
    "def lista_numeros():\n",
    "    # Criando uma lista de 5 números inteiros\n",
    "    numeros = [1, 2, 3, 4, 5]\n",
    "\n",
    "    # Imprimindo os elementos da lista\n",
    "    for numero in numeros:\n",
    "        print(numero)\n",
    "\n",
    "lista_numeros()"
   ]
  },
  {
   "cell_type": "code",
   "execution_count": 6,
   "id": "c0cc8601",
   "metadata": {},
   "outputs": [
    {
     "name": "stdout",
     "output_type": "stream",
     "text": [
      "Digite o nome de um animal: pato\n",
      "O animal pato não está presente na tupla.\n"
     ]
    }
   ],
   "source": [
    "def verifica_animal():\n",
    "    # Criando uma tupla com nomes de animais\n",
    "    animais = (\"cachorro\", \"gato\", \"elefante\", \"leão\", \"girafa\")\n",
    "\n",
    "    # Pedindo ao usuário para digitar o nome de um animal\n",
    "    nome_animal = input(\"Digite o nome de um animal: \").lower()\n",
    "\n",
    "    # Verificando se o animal está presente na tupla\n",
    "    if nome_animal in animais:\n",
    "        print(f\"O animal {nome_animal} está presente na tupla!\")\n",
    "    else:\n",
    "        print(f\"O animal {nome_animal} não está presente na tupla.\")\n",
    "\n",
    "verifica_animal()"
   ]
  },
  {
   "cell_type": "markdown",
   "id": "789f1cd2",
   "metadata": {},
   "source": [
    "## Reutilização de Código (Funções e Módulos):\n"
   ]
  },
  {
   "cell_type": "markdown",
   "id": "96dff193",
   "metadata": {},
   "source": [
    "a) Escreva uma função que receba o nome de uma pessoa como argumento e imprima uma mensagem de saudação.\n",
    "\n",
    "b) Implemente um módulo contendo uma função que verifique se um número é primo.\n"
   ]
  },
  {
   "cell_type": "code",
   "execution_count": 7,
   "id": "24f9c950",
   "metadata": {},
   "outputs": [
    {
     "name": "stdout",
     "output_type": "stream",
     "text": [
      "Olá, João! Seja bem-vindo à nossa universidade!\n"
     ]
    }
   ],
   "source": [
    "def saudacao(nome):\n",
    "    print(f\"Olá, {nome}! Seja bem-vindo à nossa universidade!\")\n",
    "\n",
    "# Testando a função\n",
    "saudacao(\"João\")"
   ]
  },
  {
   "cell_type": "code",
   "execution_count": 8,
   "id": "5f216d96",
   "metadata": {},
   "outputs": [
    {
     "name": "stdout",
     "output_type": "stream",
     "text": [
      "True\n",
      "False\n"
     ]
    }
   ],
   "source": [
    "# verificar_primo.py\n",
    "\n",
    "def eh_primo(n):\n",
    "    if n <= 1:\n",
    "        return False\n",
    "    for i in range(2, int(n ** 0.5) + 1):\n",
    "        if n % i == 0:\n",
    "            return False\n",
    "    return True\n",
    "\n",
    "# Testando a função\n",
    "if __name__ == \"__main__\":\n",
    "    print(eh_primo(2))  # Deve retornar True\n",
    "    print(eh_primo(4))  # Deve retornar False"
   ]
  },
  {
   "cell_type": "code",
   "execution_count": null,
   "id": "44c484bf",
   "metadata": {},
   "outputs": [],
   "source": []
  }
 ],
 "metadata": {
  "kernelspec": {
   "display_name": "Python 3 (ipykernel)",
   "language": "python",
   "name": "python3"
  },
  "language_info": {
   "codemirror_mode": {
    "name": "ipython",
    "version": 3
   },
   "file_extension": ".py",
   "mimetype": "text/x-python",
   "name": "python",
   "nbconvert_exporter": "python",
   "pygments_lexer": "ipython3",
   "version": "3.10.12"
  }
 },
 "nbformat": 4,
 "nbformat_minor": 5
}
