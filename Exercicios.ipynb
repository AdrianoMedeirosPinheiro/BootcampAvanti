{
  "nbformat": 4,
  "nbformat_minor": 0,
  "metadata": {
    "colab": {
      "provenance": [],
      "collapsed_sections": [
        "oYM2pMamEoiV",
        "el2eZK5uFu3O",
        "Ka8XyMzCGFQF",
        "41rI97tye3RJ",
        "C6rai97qirCR",
        "y8RNmIftkPEZ",
        "V3Bs1aXmkUcM",
        "TwnIhjsloIf6",
        "2D4PFePvpd_a"
      ]
    },
    "kernelspec": {
      "name": "python3",
      "display_name": "Python 3"
    },
    "language_info": {
      "name": "python"
    }
  },
  "cells": [
    {
      "cell_type": "markdown",
      "source": [
        "#Revisão de Python"
      ],
      "metadata": {
        "id": "oYM2pMamEoiV"
      }
    },
    {
      "cell_type": "markdown",
      "source": [
        "###Variáveis e Operadores:"
      ],
      "metadata": {
        "id": "el2eZK5uFu3O"
      }
    },
    {
      "cell_type": "markdown",
      "source": [
        "a) Crie um programa que leia dois números inteiros e imprima a soma, subtração,\n",
        "multiplicação e divisão entre eles.\n",
        "\n",
        "b) Escreva um programa que calcule a área de um círculo, solicitando o raio do\n",
        "usuário."
      ],
      "metadata": {
        "id": "XpXsBiJJEs1V"
      }
    },
    {
      "cell_type": "code",
      "execution_count": null,
      "metadata": {
        "id": "u9-mBMUFC2v-",
        "colab": {
          "base_uri": "https://localhost:8080/"
        },
        "outputId": "cf1d4340-f58d-467b-98a8-612b313f6371"
      },
      "outputs": [
        {
          "output_type": "stream",
          "name": "stdout",
          "text": [
            "Digite o primeiro número: 10\n",
            "Digite o segundo número: 1\n",
            "A soma dos números é:  11\n",
            "A subtração dos números é:  9\n",
            "A multiplicação dos números é:  10\n",
            "A divisão dos números é:  10.0\n"
          ]
        }
      ],
      "source": [
        "# Passo 1: Ler dois números inteiros do usuário\n",
        "numero1 = int(input(\"Digite o primeiro número: \"))\n",
        "numero2 = int(input(\"Digite o segundo número: \"))\n",
        "\n",
        "# Passo 2: Realizar as operações matemáticas\n",
        "soma = numero1 + numero2\n",
        "subtracao = numero1 - numero2\n",
        "multiplicacao = numero1 * numero2\n",
        "divisao = numero1 / numero2\n",
        "\n",
        "# Passo 3: Imprimir os resultados\n",
        "print(\"A soma dos números é: \", soma)\n",
        "print(\"A subtração dos números é: \", subtracao)\n",
        "print(\"A multiplicação dos números é: \", multiplicacao)\n",
        "print(\"A divisão dos números é: \", divisao)"
      ]
    },
    {
      "cell_type": "code",
      "source": [
        "# Passo 1: Ler o raio do usuário\n",
        "raio = float(input(\"Digite o valor do raio: \"))\n",
        "\n",
        "# Passo 2: Calcular a área do círculo\n",
        "area = 3.14159 * (raio ** 2)\n",
        "\n",
        "# Passo 3: Imprimir o resultado\n",
        "print(\"A área do círculo é: \", area)"
      ],
      "metadata": {
        "id": "Gvc6gtBRFla2",
        "colab": {
          "base_uri": "https://localhost:8080/"
        },
        "outputId": "733f07d7-2374-4a69-cb29-8298d64b8399"
      },
      "execution_count": null,
      "outputs": [
        {
          "output_type": "stream",
          "name": "stdout",
          "text": [
            "Digite o valor do raio: 2\n",
            "A área do círculo é:  12.56636\n"
          ]
        }
      ]
    },
    {
      "cell_type": "markdown",
      "source": [
        "##Estruturas de Seleção e Repetição:"
      ],
      "metadata": {
        "id": "Ka8XyMzCGFQF"
      }
    },
    {
      "cell_type": "markdown",
      "source": [
        "a) Escreva um programa que solicite a idade do usuário e imprima se ele é menor\n",
        "de idade (menor que 18 anos) ou maior de idade.\n",
        "\n",
        "b) Crie um programa que peça ao usuário para adivinhar um número secreto\n",
        "entre 1 e 100. O programa deve fornecer dicas se o palpite do usuário é maior ou\n",
        "menor que o número secreto, até que ele adivinhe corretamente."
      ],
      "metadata": {
        "id": "_DbOHhoFGLTg"
      }
    },
    {
      "cell_type": "code",
      "source": [
        "idade = int(input(\"Digite sua idade: \"))\n",
        "\n",
        "if idade < 18:\n",
        "    print(\"Você é menor de idade.\")\n",
        "else:\n",
        "    print(\"Você é maior de idade.\")"
      ],
      "metadata": {
        "id": "Gec2wJrqGGrK",
        "colab": {
          "base_uri": "https://localhost:8080/"
        },
        "outputId": "a3985e0c-0932-4cfe-b4cd-6ff9ef2934b3"
      },
      "execution_count": null,
      "outputs": [
        {
          "output_type": "stream",
          "name": "stdout",
          "text": [
            "Digite sua idade: 25\n",
            "Você é maior de idade.\n"
          ]
        }
      ]
    },
    {
      "cell_type": "code",
      "source": [
        "import random\n",
        "\n",
        "numero_secreto = random.randint(1, 100)\n",
        "tentativas = 0\n",
        "\n",
        "print(\"Tente adivinhar o número secreto entre 1 e 100!\")\n",
        "\n",
        "while True:\n",
        "    palpite = int(input(\"Digite seu palpite: \"))\n",
        "    tentativas += 1\n",
        "\n",
        "    if palpite == numero_secreto:\n",
        "        print(f\"Parabéns! Você acertou em {tentativas} tentativas.\")\n",
        "        break\n",
        "    elif palpite < numero_secreto:\n",
        "        print(\"O número secreto é maior que seu palpite.\")\n",
        "    else:\n",
        "        print(\"O número secreto é menor que seu palpite.\")"
      ],
      "metadata": {
        "colab": {
          "base_uri": "https://localhost:8080/"
        },
        "id": "8PzQMZroeb4-",
        "outputId": "6d370da2-c6cb-4c25-d604-12cfa3d606a3"
      },
      "execution_count": null,
      "outputs": [
        {
          "output_type": "stream",
          "name": "stdout",
          "text": [
            "Tente adivinhar o número secreto entre 1 e 100!\n",
            "Digite seu palpite: 2\n",
            "O número secreto é maior que seu palpite.\n",
            "Digite seu palpite: 5\n",
            "O número secreto é maior que seu palpite.\n",
            "Digite seu palpite: 18\n",
            "O número secreto é maior que seu palpite.\n",
            "Digite seu palpite: 58\n",
            "O número secreto é maior que seu palpite.\n",
            "Digite seu palpite: 92\n",
            "O número secreto é menor que seu palpite.\n",
            "Digite seu palpite: 90\n",
            "O número secreto é menor que seu palpite.\n",
            "Digite seu palpite: 80\n",
            "O número secreto é maior que seu palpite.\n",
            "Digite seu palpite: 85\n",
            "Parabéns! Você acertou em 8 tentativas.\n"
          ]
        }
      ]
    },
    {
      "cell_type": "markdown",
      "source": [
        "##Coleções (Listas, Tuplas, Conjuntos):"
      ],
      "metadata": {
        "id": "41rI97tye3RJ"
      }
    },
    {
      "cell_type": "markdown",
      "source": [
        "a) Escreva um programa que crie uma lista de 5 números inteiros e imprima os\n",
        "elementos dessa lista.\n",
        "\n",
        "b) Crie uma tupla com os nomes de alguns animais. Em seguida, peça ao usuário\n",
        "para digitar o nome de um animal e verifique se ele está presente na tupla."
      ],
      "metadata": {
        "id": "OMlvPhf7e5yl"
      }
    },
    {
      "cell_type": "code",
      "source": [
        "def lista_numeros():\n",
        "    # Criando uma lista de 5 números inteiros\n",
        "    numeros = [1, 2, 3, 4, 5]\n",
        "\n",
        "    # Imprimindo os elementos da lista\n",
        "    for numero in numeros:\n",
        "        print(numero)\n",
        "\n",
        "lista_numeros()"
      ],
      "metadata": {
        "colab": {
          "base_uri": "https://localhost:8080/"
        },
        "id": "TNaOhVKne-g5",
        "outputId": "801b5c96-3286-441c-c15f-5363f7f43fe6"
      },
      "execution_count": null,
      "outputs": [
        {
          "output_type": "stream",
          "name": "stdout",
          "text": [
            "1\n",
            "2\n",
            "3\n",
            "4\n",
            "5\n"
          ]
        }
      ]
    },
    {
      "cell_type": "code",
      "source": [
        "def verifica_animal():\n",
        "    # Criando uma tupla com nomes de animais\n",
        "    animais = (\"cachorro\", \"gato\", \"elefante\", \"leão\", \"girafa\")\n",
        "\n",
        "    # Pedindo ao usuário para digitar o nome de um animal\n",
        "    nome_animal = input(\"Digite o nome de um animal: \").lower()\n",
        "\n",
        "    # Verificando se o animal está presente na tupla\n",
        "    if nome_animal in animais:\n",
        "        print(f\"O animal {nome_animal} está presente na tupla!\")\n",
        "    else:\n",
        "        print(f\"O animal {nome_animal} não está presente na tupla.\")\n",
        "\n",
        "verifica_animal()"
      ],
      "metadata": {
        "colab": {
          "base_uri": "https://localhost:8080/"
        },
        "id": "06xreXwofOQH",
        "outputId": "24d84f73-dcbc-4690-dc40-66c4eef9f4e0"
      },
      "execution_count": null,
      "outputs": [
        {
          "output_type": "stream",
          "name": "stdout",
          "text": [
            "Digite o nome de um animal: pato\n",
            "O animal pato não está presente na tupla.\n"
          ]
        }
      ]
    },
    {
      "cell_type": "markdown",
      "source": [
        "##Reutilização de Código (Funções e Módulos):"
      ],
      "metadata": {
        "id": "ZHPzK0o-fWv_"
      }
    },
    {
      "cell_type": "markdown",
      "source": [
        "a) Escreva uma função que receba o nome de uma pessoa como argumento e\n",
        "imprima uma mensagem de saudação.\n",
        "\n",
        "b) Implemente um módulo contendo uma função que verifique se um número é\n",
        "primo."
      ],
      "metadata": {
        "id": "MLY7ztmAf1xK"
      }
    },
    {
      "cell_type": "code",
      "source": [
        "def saudacao(nome):\n",
        "    print(f\"Olá, {nome}! Seja bem-vindo à nossa universidade!\")\n",
        "\n",
        "# Testando a função\n",
        "saudacao(\"João\")"
      ],
      "metadata": {
        "colab": {
          "base_uri": "https://localhost:8080/"
        },
        "id": "Pedhz44cfY6h",
        "outputId": "f589bd95-a1ed-4ed3-c138-d46824c3ba4b"
      },
      "execution_count": null,
      "outputs": [
        {
          "output_type": "stream",
          "name": "stdout",
          "text": [
            "Olá, João! Seja bem-vindo à nossa universidade!\n"
          ]
        }
      ]
    },
    {
      "cell_type": "code",
      "source": [
        "# verificar_primo.py\n",
        "\n",
        "def eh_primo(n):\n",
        "    if n <= 1:\n",
        "        return False\n",
        "    for i in range(2, int(n ** 0.5) + 1):\n",
        "        if n % i == 0:\n",
        "            return False\n",
        "    return True\n",
        "\n",
        "# Testando a função\n",
        "if __name__ == \"__main__\":\n",
        "    print(eh_primo(2))  # Deve retornar True\n",
        "    print(eh_primo(4))  # Deve retornar False"
      ],
      "metadata": {
        "colab": {
          "base_uri": "https://localhost:8080/"
        },
        "id": "qr1-GNVpf9mi",
        "outputId": "77dfc49c-0918-4c79-9cce-a9d8ea5deb87"
      },
      "execution_count": null,
      "outputs": [
        {
          "output_type": "stream",
          "name": "stdout",
          "text": [
            "True\n",
            "False\n"
          ]
        }
      ]
    },
    {
      "cell_type": "markdown",
      "source": [],
      "metadata": {
        "id": "FuOQOUSae427"
      }
    },
    {
      "cell_type": "markdown",
      "source": [
        "#Estatística Descritiva"
      ],
      "metadata": {
        "id": "C6rai97qirCR"
      }
    },
    {
      "cell_type": "markdown",
      "source": [
        "Atividade do dia\n",
        "\n",
        "**Conjuntos de dados**\n",
        "\n",
        "● Pinguins (penguins)\n",
        "\n",
        "● Gorjetas (tips)\n",
        "\n",
        "● Titanic (titanic)\n",
        "\n",
        "● Quarteto anscombe (anscombe)\n",
        "\n",
        "**Atividade**\n",
        "\n",
        "● Carregar conjunto de dados\n",
        "\n",
        "● Criar dicionário de dados\n",
        "\n",
        "● Descrever os dados usando estatísticas de tendência central e dispersão\n",
        "\n",
        "● Calcular estatísticas de forma separada para cada variável categórica."
      ],
      "metadata": {
        "id": "WEdhKeiIi1Dg"
      }
    },
    {
      "cell_type": "markdown",
      "source": [
        "###penguins"
      ],
      "metadata": {
        "id": "y8RNmIftkPEZ"
      }
    },
    {
      "cell_type": "code",
      "source": [
        "import seaborn as sns\n",
        "import pandas as pd\n",
        "\n",
        "# Carregar o conjunto de dados dos pinguins\n",
        "df = sns.load_dataset('penguins')"
      ],
      "metadata": {
        "id": "Umn-vGVcjXsN"
      },
      "execution_count": 10,
      "outputs": []
    },
    {
      "cell_type": "markdown",
      "source": [
        "**Dicionário de dados**\n",
        "\n",
        "Um dicionário de dados é uma descrição das variáveis no conjunto de dados. Vamos assumir que o conjunto de dados dos pinguins tem as seguintes colunas:\n",
        "\n",
        "species: Espécie do pinguim\n",
        "\n",
        "---\n",
        "\n",
        "\n",
        "island: Ilha onde o pinguim foi encontrado\n",
        "\n",
        "---\n",
        "\n",
        "\n",
        "bill_length_mm: Comprimento do bico em mm\n",
        "\n",
        "---\n",
        "\n",
        "\n",
        "bill_depth_mm: Profundidade do bico em mm\n",
        "\n",
        "---\n",
        "\n",
        "\n",
        "flipper_length_mm: Comprimento da nadadeira em mm\n",
        "\n",
        "---\n",
        "\n",
        "\n",
        "body_mass_g: Massa corporal em gramas\n",
        "\n",
        "---\n",
        "\n",
        "\n",
        "sex: Sexo do pinguim\n",
        "\n",
        "---\n",
        "\n"
      ],
      "metadata": {
        "id": "d07XV8zyjkTR"
      }
    },
    {
      "cell_type": "code",
      "source": [
        "# Descrever os dados\n",
        "print(df.describe())"
      ],
      "metadata": {
        "id": "48e1XIXBj2k9"
      },
      "execution_count": null,
      "outputs": []
    },
    {
      "cell_type": "code",
      "source": [
        "# Estatísticas para cada espécie de pinguim\n",
        "print(df.groupby('species').describe())\n",
        "\n",
        "# Estatísticas para cada ilha\n",
        "print(df.groupby('island').describe())\n",
        "\n",
        "# Estatísticas para cada sexo\n",
        "print(df.groupby('sex').describe())"
      ],
      "metadata": {
        "id": "0Nf7NrdukC6D"
      },
      "execution_count": null,
      "outputs": []
    },
    {
      "cell_type": "markdown",
      "source": [
        "###tips"
      ],
      "metadata": {
        "id": "V3Bs1aXmkUcM"
      }
    },
    {
      "cell_type": "code",
      "source": [
        "# Carregar o conjunto de dados das gorjetas (tips)\n",
        "df_tips = sns.load_dataset('tips')"
      ],
      "metadata": {
        "id": "w-qUS_FUkXZl"
      },
      "execution_count": 13,
      "outputs": []
    },
    {
      "cell_type": "markdown",
      "source": [
        "**Dicionário de dados**\n",
        "\n",
        "O conjunto de dados tips contém as seguintes colunas:\n",
        "\n",
        "total_bill: Valor total da conta\n",
        "\n",
        "---\n",
        "\n",
        "\n",
        "tip: Valor da gorjeta\n",
        "\n",
        "---\n",
        "\n",
        "\n",
        "sex: Sexo do pagador da conta\n",
        "\n",
        "---\n",
        "\n",
        "\n",
        "smoker: Se o pagador é fumante ou não\n",
        "\n",
        "---\n",
        "\n",
        "\n",
        "day: Dia da semana\n",
        "\n",
        "---\n",
        "\n",
        "\n",
        "time: Refeição (Almoço ou Jantar)\n",
        "\n",
        "---\n",
        "\n",
        "\n",
        "size: Número de pessoas na mesa\n",
        "\n",
        "---\n",
        "\n"
      ],
      "metadata": {
        "id": "OExbDMHLmdyW"
      }
    },
    {
      "cell_type": "code",
      "source": [
        "# Estatísticas separadas por sexo\n",
        "print(df_tips.groupby('sex').describe())\n",
        "\n",
        "# Estatísticas separadas por fumante ou não fumante\n",
        "print(df_tips.groupby('smoker').describe())\n",
        "\n",
        "# Estatísticas separadas por dia da semana\n",
        "print(df_tips.groupby('day').describe())\n",
        "\n",
        "# Estatísticas separadas por refeição (Almoço ou Jantar)\n",
        "print(df_tips.groupby('time').describe())"
      ],
      "metadata": {
        "id": "RsE5qf9bmaRb"
      },
      "execution_count": null,
      "outputs": []
    },
    {
      "cell_type": "markdown",
      "source": [
        "###titanic"
      ],
      "metadata": {
        "id": "TwnIhjsloIf6"
      }
    },
    {
      "cell_type": "code",
      "source": [
        "# Carregar o conjunto de dados do Titanic\n",
        "df_titanic = sns.load_dataset('titanic')"
      ],
      "metadata": {
        "id": "YJeSRyDqoKDQ"
      },
      "execution_count": 15,
      "outputs": []
    },
    {
      "cell_type": "markdown",
      "source": [
        "**Dicionário de dados**\n",
        "\n",
        "O conjunto de dados titanic contém as seguintes colunas:\n",
        "\n",
        "survived: Se o passageiro sobreviveu (1) ou não (0)\n",
        "\n",
        "---\n",
        "\n",
        "\n",
        "pclass: Classe do bilhete (1, 2, ou 3)\n",
        "\n",
        "---\n",
        "\n",
        "\n",
        "sex: Sexo do passageiro\n",
        "\n",
        "---\n",
        "\n",
        "\n",
        "age: Idade do passageiro\n",
        "\n",
        "---\n",
        "\n",
        "\n",
        "sibsp: Número de irmãos/cônjuges a bordo\n",
        "\n",
        "---\n",
        "\n",
        "\n",
        "parch: Número de pais/filhos a bordo\n",
        "\n",
        "---\n",
        "\n",
        "\n",
        "fare: Tarifa paga pelo passageiro\n",
        "\n",
        "---\n",
        "\n",
        "\n",
        "embarked: Porto de embarque (C = Cherbourg; Q = Queenstown; S = Southampton)\n",
        "\n",
        "---\n",
        "\n",
        "\n",
        "class: Classe do bilhete como string (First, Second, Third)\n",
        "\n",
        "---\n",
        "\n",
        "\n",
        "who: Tipo de passageiro (man, woman, child)\n",
        "\n",
        "---\n",
        "\n",
        "\n",
        "deck: Deck do navio\n",
        "\n",
        "---\n",
        "\n",
        "\n",
        "embark_town: Cidade de embarque\n",
        "\n",
        "---\n",
        "\n",
        "\n",
        "alive: Se o passageiro sobreviveu ou não como string (yes, no)\n",
        "\n",
        "---\n",
        "\n",
        "\n",
        "alone: Se o passageiro estava sozinho ou não (True, False)\n",
        "\n",
        "---\n",
        "\n"
      ],
      "metadata": {
        "id": "8ux6q_Y9obah"
      }
    },
    {
      "cell_type": "code",
      "source": [
        "# Descrever os dados\n",
        "print(df_titanic.describe())"
      ],
      "metadata": {
        "id": "Oq8nns_Corjx"
      },
      "execution_count": null,
      "outputs": []
    },
    {
      "cell_type": "code",
      "source": [
        "# Estatísticas separadas por sobrevivência\n",
        "print(df_titanic.groupby('survived').describe())\n",
        "\n",
        "# Estatísticas separadas por classe do bilhete\n",
        "print(df_titanic.groupby('pclass').describe())\n",
        "\n",
        "# Estatísticas separadas por sexo\n",
        "print(df_titanic.groupby('sex').describe())\n",
        "\n",
        "# Estatísticas separadas por porto de embarque\n",
        "print(df_titanic.groupby('embarked').describe())\n",
        "\n",
        "# Estatísticas separadas por tipo de passageiro (man, woman, child)\n",
        "print(df_titanic.groupby('who').describe())\n",
        "\n",
        "# Estatísticas separadas por se o passageiro estava sozinho ou não\n",
        "print(df_titanic.groupby('alone').describe())"
      ],
      "metadata": {
        "id": "Mo53dbvnotsJ"
      },
      "execution_count": null,
      "outputs": []
    },
    {
      "cell_type": "markdown",
      "source": [
        "###anscombe"
      ],
      "metadata": {
        "id": "2D4PFePvpd_a"
      }
    },
    {
      "cell_type": "code",
      "source": [
        "# Carregar o conjunto de dados de Anscombe\n",
        "df_anscombe = sns.load_dataset('anscombe')"
      ],
      "metadata": {
        "id": "_ZsNk39mpfuL"
      },
      "execution_count": 18,
      "outputs": []
    },
    {
      "cell_type": "markdown",
      "source": [
        "**Dicionário de dados**\n",
        "\n",
        "O conjunto de dados anscombe contém as seguintes colunas:\n",
        "\n",
        "dataset: Identificador do conjunto (I, II, III ou IV)\n",
        "\n",
        "---\n",
        "\n",
        "\n",
        "x: Variável independente\n",
        "\n",
        "---\n",
        "\n",
        "\n",
        "y: Variável dependente\n",
        "\n",
        "---\n",
        "\n"
      ],
      "metadata": {
        "id": "QD96uVH-pk5l"
      }
    },
    {
      "cell_type": "code",
      "source": [
        "# Descrever os dados\n",
        "print(df_anscombe.describe())"
      ],
      "metadata": {
        "colab": {
          "base_uri": "https://localhost:8080/"
        },
        "id": "Rgdr9fYdpuZz",
        "outputId": "d5aa3c49-ef88-4362-fbd8-335b5bee4d64"
      },
      "execution_count": 19,
      "outputs": [
        {
          "output_type": "stream",
          "name": "stdout",
          "text": [
            "               x          y\n",
            "count  44.000000  44.000000\n",
            "mean    9.000000   7.500682\n",
            "std     3.198837   1.958925\n",
            "min     4.000000   3.100000\n",
            "25%     7.000000   6.117500\n",
            "50%     8.000000   7.520000\n",
            "75%    11.000000   8.747500\n",
            "max    19.000000  12.740000\n"
          ]
        }
      ]
    },
    {
      "cell_type": "code",
      "source": [
        "# Estatísticas separadas por conjunto\n",
        "print(df_anscombe.groupby('dataset').describe())"
      ],
      "metadata": {
        "colab": {
          "base_uri": "https://localhost:8080/"
        },
        "id": "NWAelzg6pzOV",
        "outputId": "7a18a946-3504-4fd2-dfc2-62c57f412810"
      },
      "execution_count": 20,
      "outputs": [
        {
          "output_type": "stream",
          "name": "stdout",
          "text": [
            "            x                                               y            \\\n",
            "        count mean       std  min  25%  50%   75%   max count      mean   \n",
            "dataset                                                                   \n",
            "I        11.0  9.0  3.316625  4.0  6.5  9.0  11.5  14.0  11.0  7.500909   \n",
            "II       11.0  9.0  3.316625  4.0  6.5  9.0  11.5  14.0  11.0  7.500909   \n",
            "III      11.0  9.0  3.316625  4.0  6.5  9.0  11.5  14.0  11.0  7.500000   \n",
            "IV       11.0  9.0  3.316625  8.0  8.0  8.0   8.0  19.0  11.0  7.500909   \n",
            "\n",
            "                                                   \n",
            "              std   min    25%   50%   75%    max  \n",
            "dataset                                            \n",
            "I        2.031568  4.26  6.315  7.58  8.57  10.84  \n",
            "II       2.031657  3.10  6.695  8.14  8.95   9.26  \n",
            "III      2.030424  5.39  6.250  7.11  7.98  12.74  \n",
            "IV       2.030579  5.25  6.170  7.04  8.19  12.50  \n"
          ]
        }
      ]
    }
  ]
}